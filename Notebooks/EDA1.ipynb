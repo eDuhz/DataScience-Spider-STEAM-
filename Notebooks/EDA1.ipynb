{
 "cells": [
  {
   "cell_type": "code",
   "execution_count": 1,
   "metadata": {
    "collapsed": true
   },
   "outputs": [],
   "source": [
    "import pandas as pd\n",
    "import numpy as np\n",
    "import matplotlib.pyplot as plt\n",
    "%matplotlib inline\n",
    "import seaborn as sns\n",
    "pd.options.display.float_format = '{:20,.2f}'.format"
   ]
  },
  {
   "cell_type": "code",
   "execution_count": 2,
   "metadata": {
    "collapsed": true
   },
   "outputs": [],
   "source": [
    "df = pd.read_csv('../games.csv', parse_dates=['release_date'])"
   ]
  },
  {
   "cell_type": "code",
   "execution_count": 3,
   "metadata": {},
   "outputs": [
    {
     "name": "stdout",
     "output_type": "stream",
     "text": [
      "<class 'pandas.core.frame.DataFrame'>\n",
      "RangeIndex: 75002 entries, 0 to 75001\n",
      "Data columns (total 8 columns):\n",
      "url                75002 non-null object\n",
      "developer          74023 non-null object\n",
      "genre              74374 non-null object\n",
      "overall_Reviews    59018 non-null object\n",
      "price              75002 non-null float64\n",
      "release_date       75002 non-null object\n",
      "score              3575 non-null float64\n",
      "title              74372 non-null object\n",
      "dtypes: float64(2), object(6)\n",
      "memory usage: 4.6+ MB\n"
     ]
    }
   ],
   "source": [
    "df.info()"
   ]
  },
  {
   "cell_type": "code",
   "execution_count": 4,
   "metadata": {},
   "outputs": [
    {
     "data": {
      "text/html": [
       "<div>\n",
       "<style>\n",
       "    .dataframe thead tr:only-child th {\n",
       "        text-align: right;\n",
       "    }\n",
       "\n",
       "    .dataframe thead th {\n",
       "        text-align: left;\n",
       "    }\n",
       "\n",
       "    .dataframe tbody tr th {\n",
       "        vertical-align: top;\n",
       "    }\n",
       "</style>\n",
       "<table border=\"1\" class=\"dataframe\">\n",
       "  <thead>\n",
       "    <tr style=\"text-align: right;\">\n",
       "      <th></th>\n",
       "      <th>url</th>\n",
       "      <th>developer</th>\n",
       "      <th>genre</th>\n",
       "      <th>overall_Reviews</th>\n",
       "      <th>price</th>\n",
       "      <th>release_date</th>\n",
       "      <th>score</th>\n",
       "      <th>title</th>\n",
       "    </tr>\n",
       "  </thead>\n",
       "  <tbody>\n",
       "    <tr>\n",
       "      <th>0</th>\n",
       "      <td>http://store.steampowered.com/agecheck/app/225...</td>\n",
       "      <td>Gearbox Software</td>\n",
       "      <td>Action</td>\n",
       "      <td>NaN</td>\n",
       "      <td>24.95</td>\n",
       "      <td>nan</td>\n",
       "      <td>nan</td>\n",
       "      <td>Borderlands 2: Mr. Torgue’s Campaign of Carnage</td>\n",
       "    </tr>\n",
       "    <tr>\n",
       "      <th>1</th>\n",
       "      <td>http://store.steampowered.com/agecheck/app/225...</td>\n",
       "      <td>Gearbox Software</td>\n",
       "      <td>Action</td>\n",
       "      <td>NaN</td>\n",
       "      <td>24.95</td>\n",
       "      <td>nan</td>\n",
       "      <td>nan</td>\n",
       "      <td>Borderlands 2: Mr. Torgue’s Campaign of Carnage</td>\n",
       "    </tr>\n",
       "    <tr>\n",
       "      <th>2</th>\n",
       "      <td>http://store.steampowered.com/app/502970/agech...</td>\n",
       "      <td>NaN</td>\n",
       "      <td>NaN</td>\n",
       "      <td>NaN</td>\n",
       "      <td>0.00</td>\n",
       "      <td>nan</td>\n",
       "      <td>nan</td>\n",
       "      <td>NaN</td>\n",
       "    </tr>\n",
       "    <tr>\n",
       "      <th>3</th>\n",
       "      <td>http://store.steampowered.com/app/225700/Falle...</td>\n",
       "      <td>Stardock Entertainment</td>\n",
       "      <td>RPG</td>\n",
       "      <td>NaN</td>\n",
       "      <td>0.00</td>\n",
       "      <td>nan</td>\n",
       "      <td>nan</td>\n",
       "      <td>Fallen Enchantress - Map Pack DLC</td>\n",
       "    </tr>\n",
       "    <tr>\n",
       "      <th>4</th>\n",
       "      <td>http://store.steampowered.com/app/220121/C9_St...</td>\n",
       "      <td>Cloud 9 Studio</td>\n",
       "      <td>Action</td>\n",
       "      <td>NaN</td>\n",
       "      <td>0.00</td>\n",
       "      <td>nan</td>\n",
       "      <td>nan</td>\n",
       "      <td>C9 Starter Package 2013</td>\n",
       "    </tr>\n",
       "    <tr>\n",
       "      <th>5</th>\n",
       "      <td>http://store.steampowered.com/app/220120/Conti...</td>\n",
       "      <td>Cloud 9 Studio</td>\n",
       "      <td>Action</td>\n",
       "      <td>NaN</td>\n",
       "      <td>0.00</td>\n",
       "      <td>nan</td>\n",
       "      <td>nan</td>\n",
       "      <td>Continent of the Ninth Seal: Starter Pack</td>\n",
       "    </tr>\n",
       "    <tr>\n",
       "      <th>6</th>\n",
       "      <td>http://store.steampowered.com/agecheck/app/335...</td>\n",
       "      <td>CI Games Deck 13</td>\n",
       "      <td>Action</td>\n",
       "      <td>NaN</td>\n",
       "      <td>24.95</td>\n",
       "      <td>nan</td>\n",
       "      <td>nan</td>\n",
       "      <td>Lords of the Fallen - Strength Pack</td>\n",
       "    </tr>\n",
       "    <tr>\n",
       "      <th>7</th>\n",
       "      <td>http://store.steampowered.com/agecheck/app/335...</td>\n",
       "      <td>CI Games Deck 13</td>\n",
       "      <td>Action</td>\n",
       "      <td>NaN</td>\n",
       "      <td>24.95</td>\n",
       "      <td>nan</td>\n",
       "      <td>nan</td>\n",
       "      <td>Lords of the Fallen - Agility Pack</td>\n",
       "    </tr>\n",
       "    <tr>\n",
       "      <th>8</th>\n",
       "      <td>http://store.steampowered.com/app/220120/Conti...</td>\n",
       "      <td>Cloud 9 Studio</td>\n",
       "      <td>Action</td>\n",
       "      <td>NaN</td>\n",
       "      <td>0.00</td>\n",
       "      <td>nan</td>\n",
       "      <td>nan</td>\n",
       "      <td>Continent of the Ninth Seal: Starter Pack</td>\n",
       "    </tr>\n",
       "    <tr>\n",
       "      <th>9</th>\n",
       "      <td>http://store.steampowered.com/app/503430/N0EXI...</td>\n",
       "      <td>ma_mutte</td>\n",
       "      <td>Action</td>\n",
       "      <td>No user reviews</td>\n",
       "      <td>2.19</td>\n",
       "      <td>22 Feb, 2017</td>\n",
       "      <td>nan</td>\n",
       "      <td>N0-EXIT</td>\n",
       "    </tr>\n",
       "  </tbody>\n",
       "</table>\n",
       "</div>"
      ],
      "text/plain": [
       "                                                 url               developer  \\\n",
       "0  http://store.steampowered.com/agecheck/app/225...        Gearbox Software   \n",
       "1  http://store.steampowered.com/agecheck/app/225...        Gearbox Software   \n",
       "2  http://store.steampowered.com/app/502970/agech...                     NaN   \n",
       "3  http://store.steampowered.com/app/225700/Falle...  Stardock Entertainment   \n",
       "4  http://store.steampowered.com/app/220121/C9_St...          Cloud 9 Studio   \n",
       "5  http://store.steampowered.com/app/220120/Conti...          Cloud 9 Studio   \n",
       "6  http://store.steampowered.com/agecheck/app/335...        CI Games Deck 13   \n",
       "7  http://store.steampowered.com/agecheck/app/335...        CI Games Deck 13   \n",
       "8  http://store.steampowered.com/app/220120/Conti...          Cloud 9 Studio   \n",
       "9  http://store.steampowered.com/app/503430/N0EXI...                ma_mutte   \n",
       "\n",
       "    genre  overall_Reviews                price  release_date  \\\n",
       "0  Action              NaN                24.95           nan   \n",
       "1  Action              NaN                24.95           nan   \n",
       "2     NaN              NaN                 0.00           nan   \n",
       "3     RPG              NaN                 0.00           nan   \n",
       "4  Action              NaN                 0.00           nan   \n",
       "5  Action              NaN                 0.00           nan   \n",
       "6  Action              NaN                24.95           nan   \n",
       "7  Action              NaN                24.95           nan   \n",
       "8  Action              NaN                 0.00           nan   \n",
       "9  Action  No user reviews                 2.19  22 Feb, 2017   \n",
       "\n",
       "                 score                                            title  \n",
       "0                  nan  Borderlands 2: Mr. Torgue’s Campaign of Carnage  \n",
       "1                  nan  Borderlands 2: Mr. Torgue’s Campaign of Carnage  \n",
       "2                  nan                                              NaN  \n",
       "3                  nan                Fallen Enchantress - Map Pack DLC  \n",
       "4                  nan                          C9 Starter Package 2013  \n",
       "5                  nan        Continent of the Ninth Seal: Starter Pack  \n",
       "6                  nan              Lords of the Fallen - Strength Pack  \n",
       "7                  nan               Lords of the Fallen - Agility Pack  \n",
       "8                  nan        Continent of the Ninth Seal: Starter Pack  \n",
       "9                  nan                                          N0-EXIT  "
      ]
     },
     "execution_count": 4,
     "metadata": {},
     "output_type": "execute_result"
    }
   ],
   "source": [
    "df.head(10)"
   ]
  },
  {
   "cell_type": "code",
   "execution_count": 8,
   "metadata": {},
   "outputs": [
    {
     "data": {
      "text/plain": [
       "<matplotlib.axes._subplots.AxesSubplot at 0x7f6469bb62d0>"
      ]
     },
     "execution_count": 8,
     "metadata": {},
     "output_type": "execute_result"
    },
    {
     "data": {
      "image/png": "[encoded data removed]",
      "text/plain": [
       "<matplotlib.figure.Figure at 0x7f6469bc1f50>"
      ]
     },
     "metadata": {},
     "output_type": "display_data"
    }
   ],
   "source": [
    "df.groupby('genre').price.mean().sort_values().tail(30).plot(kind='bar')"
   ]
  },
  {
   "cell_type": "markdown",
   "metadata": {},
   "source": [
    "Quais são os gêneros de jogos com média de preço mais caros?"
   ]
  },
  {
   "cell_type": "code",
   "execution_count": 9,
   "metadata": {},
   "outputs": [
    {
     "data": {
      "text/plain": [
       "<matplotlib.axes._subplots.AxesSubplot at 0x7f6469abc710>"
      ]
     },
     "execution_count": 9,
     "metadata": {},
     "output_type": "execute_result"
    },
    {
     "data": {
      "image/png": "[encoded data removed]",
      "text/plain": [
       "<matplotlib.figure.Figure at 0x7f6469ac7c50>"
      ]
     },
     "metadata": {},
     "output_type": "display_data"
    }
   ],
   "source": [
    "df.groupby('genre').price.mean().sort_values().head(30).plot(kind='bar')"
   ]
  },
  {
   "cell_type": "markdown",
   "metadata": {},
   "source": [
    "Por quê temos algumas publicadoras enquadradas como gênero de jogo?"
   ]
  },
  {
   "cell_type": "code",
   "execution_count": 12,
   "metadata": {},
   "outputs": [
    {
     "data": {
      "text/plain": [
       "<matplotlib.axes._subplots.AxesSubplot at 0x7f64696e75d0>"
      ]
     },
     "execution_count": 12,
     "metadata": {},
     "output_type": "execute_result"
    },
    {
     "data": {
      "image/png": "[encoded data removed]",
      "text/plain": [
       "<matplotlib.figure.Figure at 0x7f646970a550>"
      ]
     },
     "metadata": {},
     "output_type": "display_data"
    }
   ],
   "source": [
    "df.groupby('overall_Reviews').price.mean().sort_values().plot(kind='bar')"
   ]
  },
  {
   "cell_type": "code",
   "execution_count": null,
   "metadata": {
    "collapsed": true
   },
   "outputs": [],
   "source": [
    "df.groupby('overall_Reviews').price.mean().sort_values().plot(kind='bar')"
   ]
  }
 ],
 "metadata": {
  "kernelspec": {
   "display_name": "Python 2",
   "language": "python",
   "name": "python2"
  },
  "language_info": {
   "codemirror_mode": {
    "name": "ipython",
    "version": 2
   },
   "file_extension": ".py",
   "mimetype": "text/x-python",
   "name": "python",
   "nbconvert_exporter": "python",
   "pygments_lexer": "ipython2",
   "version": "2.7.13"
  }
 },
 "nbformat": 4,
 "nbformat_minor": 2
}
