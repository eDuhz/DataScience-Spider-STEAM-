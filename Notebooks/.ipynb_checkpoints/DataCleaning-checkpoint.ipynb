{
 "cells": [
  {
   "cell_type": "code",
   "execution_count": 1,
   "metadata": {
    "collapsed": true
   },
   "outputs": [],
   "source": [
    "import pandas as pd\n",
    "import os"
   ]
  },
  {
   "cell_type": "code",
   "execution_count": 2,
   "metadata": {},
   "outputs": [
    {
     "name": "stdout",
     "output_type": "stream",
     "text": [
      "<class 'pandas.core.frame.DataFrame'>\n",
      "Int64Index: 75441 entries, 0 to 14533\n",
      "Data columns (total 10 columns):\n",
      "url                75441 non-null object\n",
      "developer          74460 non-null object\n",
      "genre              74813 non-null object\n",
      "overall_Reviews    59453 non-null object\n",
      "price              75441 non-null object\n",
      "release_date       74266 non-null object\n",
      "score              3722 non-null float64\n",
      "title              74811 non-null object\n",
      "url.1              75441 non-null object\n",
      "...                75441 non-null object\n",
      "dtypes: float64(1), object(9)\n",
      "memory usage: 6.3+ MB\n"
     ]
    }
   ],
   "source": [
    "df = pd.DataFrame()\n",
    "for f in os.listdir('../CSV'):\n",
    "    df = pd.concat([df, pd.read_csv('../CSV/'+f)])\n",
    "    \n",
    "df.info()"
   ]
  },
  {
   "cell_type": "code",
   "execution_count": 3,
   "metadata": {
    "collapsed": true
   },
   "outputs": [],
   "source": [
    "udf = df[~df.duplicated()]"
   ]
  },
  {
   "cell_type": "code",
   "execution_count": 4,
   "metadata": {
    "collapsed": true
   },
   "outputs": [],
   "source": [
    "del udf['...']\n",
    "del udf['url.1']"
   ]
  },
  {
   "cell_type": "code",
   "execution_count": 6,
   "metadata": {},
   "outputs": [
    {
     "data": {
      "text/html": [
       "<div>\n",
       "<style>\n",
       "    .dataframe thead tr:only-child th {\n",
       "        text-align: right;\n",
       "    }\n",
       "\n",
       "    .dataframe thead th {\n",
       "        text-align: left;\n",
       "    }\n",
       "\n",
       "    .dataframe tbody tr th {\n",
       "        vertical-align: top;\n",
       "    }\n",
       "</style>\n",
       "<table border=\"1\" class=\"dataframe\">\n",
       "  <thead>\n",
       "    <tr style=\"text-align: right;\">\n",
       "      <th></th>\n",
       "      <th>url</th>\n",
       "      <th>developer</th>\n",
       "      <th>genre</th>\n",
       "      <th>overall_Reviews</th>\n",
       "      <th>price</th>\n",
       "      <th>release_date</th>\n",
       "      <th>score</th>\n",
       "      <th>title</th>\n",
       "    </tr>\n",
       "  </thead>\n",
       "  <tbody>\n",
       "    <tr>\n",
       "      <th>14499</th>\n",
       "      <td>http://store.steampowered.com/agecheck/app/379...</td>\n",
       "      <td>id Software</td>\n",
       "      <td>Action</td>\n",
       "      <td>Very Positive</td>\n",
       "      <td>34.99</td>\n",
       "      <td>13 May, 2016</td>\n",
       "      <td>85.0</td>\n",
       "      <td>DOOM</td>\n",
       "    </tr>\n",
       "    <tr>\n",
       "      <th>14502</th>\n",
       "      <td>http://store.steampowered.com/app/454650/DRAGO...</td>\n",
       "      <td>QLOC DIMPS</td>\n",
       "      <td>Action</td>\n",
       "      <td>Mostly Positive</td>\n",
       "      <td>159.90</td>\n",
       "      <td>27 Oct, 2016</td>\n",
       "      <td>NaN</td>\n",
       "      <td>DRAGON BALL XENOVERSE 2</td>\n",
       "    </tr>\n",
       "    <tr>\n",
       "      <th>14504</th>\n",
       "      <td>http://store.steampowered.com/agecheck/app/554...</td>\n",
       "      <td>Deck Nine</td>\n",
       "      <td>Action</td>\n",
       "      <td>Overwhelmingly Positive</td>\n",
       "      <td>31.49</td>\n",
       "      <td>31 Aug, 2017</td>\n",
       "      <td>NaN</td>\n",
       "      <td>Life is Strange: Before the Storm</td>\n",
       "    </tr>\n",
       "    <tr>\n",
       "      <th>14524</th>\n",
       "      <td>http://store.steampowered.com/app/4000/Garrys_...</td>\n",
       "      <td>Facepunch Studios</td>\n",
       "      <td>Indie</td>\n",
       "      <td>Overwhelmingly Positive</td>\n",
       "      <td>19.99</td>\n",
       "      <td>29 Nov, 2006</td>\n",
       "      <td>NaN</td>\n",
       "      <td>Garry's Mod</td>\n",
       "    </tr>\n",
       "    <tr>\n",
       "      <th>14531</th>\n",
       "      <td>http://store.steampowered.com/app/550650/Black...</td>\n",
       "      <td>NS STUDIO</td>\n",
       "      <td>Action</td>\n",
       "      <td>Mostly Positive</td>\n",
       "      <td>to</td>\n",
       "      <td>28 Jul, 2017</td>\n",
       "      <td>NaN</td>\n",
       "      <td>Black Squad</td>\n",
       "    </tr>\n",
       "  </tbody>\n",
       "</table>\n",
       "</div>"
      ],
      "text/plain": [
       "                                                     url          developer  \\\n",
       "14499  http://store.steampowered.com/agecheck/app/379...        id Software   \n",
       "14502  http://store.steampowered.com/app/454650/DRAGO...         QLOC DIMPS   \n",
       "14504  http://store.steampowered.com/agecheck/app/554...          Deck Nine   \n",
       "14524  http://store.steampowered.com/app/4000/Garrys_...  Facepunch Studios   \n",
       "14531  http://store.steampowered.com/app/550650/Black...          NS STUDIO   \n",
       "\n",
       "        genre          overall_Reviews   price  release_date  score  \\\n",
       "14499  Action            Very Positive   34.99  13 May, 2016   85.0   \n",
       "14502  Action          Mostly Positive  159.90  27 Oct, 2016    NaN   \n",
       "14504  Action  Overwhelmingly Positive   31.49  31 Aug, 2017    NaN   \n",
       "14524   Indie  Overwhelmingly Positive   19.99  29 Nov, 2006    NaN   \n",
       "14531  Action          Mostly Positive      to  28 Jul, 2017    NaN   \n",
       "\n",
       "                                   title  \n",
       "14499                               DOOM  \n",
       "14502            DRAGON BALL XENOVERSE 2  \n",
       "14504  Life is Strange: Before the Storm  \n",
       "14524                        Garry's Mod  \n",
       "14531                        Black Squad  "
      ]
     },
     "execution_count": 6,
     "metadata": {},
     "output_type": "execute_result"
    }
   ],
   "source": [
    "udf.tail()"
   ]
  },
  {
   "cell_type": "code",
   "execution_count": 7,
   "metadata": {},
   "outputs": [
    {
     "name": "stdout",
     "output_type": "stream",
     "text": [
      "<class 'pandas.core.frame.DataFrame'>\n",
      "Int64Index: 75002 entries, 0 to 14531\n",
      "Data columns (total 8 columns):\n",
      "url                75002 non-null object\n",
      "developer          74023 non-null object\n",
      "genre              74374 non-null object\n",
      "overall_Reviews    59018 non-null object\n",
      "price              75002 non-null object\n",
      "release_date       73827 non-null object\n",
      "score              3575 non-null float64\n",
      "title              74372 non-null object\n",
      "dtypes: float64(1), object(7)\n",
      "memory usage: 5.1+ MB\n"
     ]
    }
   ],
   "source": [
    "udf.info()"
   ]
  },
  {
   "cell_type": "code",
   "execution_count": 8,
   "metadata": {},
   "outputs": [
    {
     "data": {
      "text/plain": [
       "array(['Action', nan, 'RPG', 'Indie', 'Adventure', 'Casual', 'Massively',\n",
       "       'Free', 'Strategy', 'Design', 'Animation', 'Racing', 'Degica',\n",
       "       'Simulation', 'BANDAI', 'Sports', 'SEGA', 'Heroic', 'Shiny', 'Web',\n",
       "       'Early', 'Utilities', 'Valve', 'OVERKILL', 'View', 'Lionsgate',\n",
       "       'Summit', 'Rooster', 'Miramax', 'Star', 'NBC', 'Zombie', 'TV',\n",
       "       'Angry', 'Ominous', \"Devil's\", 'titansiegetochina', 'Catbox',\n",
       "       'Tristan', 'Headfirst', 'Education', 'Blit', 'Cities:',\n",
       "       'InvertMouse', 'KillHouse', 'Audio', 'Verb', 'Video', 'StudioBento',\n",
       "       'Steve', 'Five', 'Devolver', 'Bury', 'Performance', 'Konec', 'Vile',\n",
       "       'Alienware', 'Coasting', 'Grandview', 'PDP', 'Historia', 'Nine',\n",
       "       'Okay', '2', 'Common', 'Flame', 'Ale\\xc5\\xa1', 'Spiez',\n",
       "       'Assemblage', 'Imagos', 'Naps', 'MidBoss,', 'Software', 'WWE',\n",
       "       'Grindstone', 'Warner', 'MIRAMAX', 'Oscilloscope', 'Shochiku',\n",
       "       'NetherRealm', 'iDragons', 'Corridor', 'Kennedy'], dtype=object)"
      ]
     },
     "execution_count": 8,
     "metadata": {},
     "output_type": "execute_result"
    }
   ],
   "source": [
    "udf.genre.unique()"
   ]
  },
  {
   "cell_type": "code",
   "execution_count": 9,
   "metadata": {
    "collapsed": true
   },
   "outputs": [],
   "source": [
    "def parse_price(x):\n",
    "    try:\n",
    "        return float(x)\n",
    "    except:\n",
    "        return 0"
   ]
  },
  {
   "cell_type": "code",
   "execution_count": 10,
   "metadata": {
    "collapsed": true
   },
   "outputs": [],
   "source": [
    "udf = udf.copy()\n",
    "udf['price'] = udf.price.apply(parse_price)"
   ]
  },
  {
   "cell_type": "code",
   "execution_count": 11,
   "metadata": {},
   "outputs": [
    {
     "name": "stdout",
     "output_type": "stream",
     "text": [
      "<class 'pandas.core.frame.DataFrame'>\n",
      "Int64Index: 75002 entries, 0 to 14531\n",
      "Data columns (total 8 columns):\n",
      "url                75002 non-null object\n",
      "developer          74023 non-null object\n",
      "genre              74374 non-null object\n",
      "overall_Reviews    59018 non-null object\n",
      "price              75002 non-null float64\n",
      "release_date       73827 non-null object\n",
      "score              3575 non-null float64\n",
      "title              74372 non-null object\n",
      "dtypes: float64(2), object(6)\n",
      "memory usage: 5.1+ MB\n"
     ]
    }
   ],
   "source": [
    "udf.info()"
   ]
  },
  {
   "cell_type": "code",
   "execution_count": 12,
   "metadata": {},
   "outputs": [
    {
     "data": {
      "text/plain": [
       "array([nan, 'No user reviews', '4 user reviews', 'Very Positive',\n",
       "       '5 user reviews', 'Positive', '7 user reviews', '1 user reviews',\n",
       "       'Mixed', 'Overwhelmingly Positive', 'Mostly Negative',\n",
       "       '6 user reviews', '8 user reviews', '3 user reviews',\n",
       "       '9 user reviews', 'Mostly Positive', '2 user reviews', 'Negative',\n",
       "       'Very Negative', 'Overwhelmingly Negative'], dtype=object)"
      ]
     },
     "execution_count": 12,
     "metadata": {},
     "output_type": "execute_result"
    }
   ],
   "source": [
    "udf.overall_Reviews.unique()"
   ]
  },
  {
   "cell_type": "code",
   "execution_count": 13,
   "metadata": {
    "collapsed": true
   },
   "outputs": [],
   "source": [
    "udf.to_csv('../games.csv', index=False)"
   ]
  },
  {
   "cell_type": "code",
   "execution_count": null,
   "metadata": {
    "collapsed": true
   },
   "outputs": [],
   "source": []
  }
 ],
 "metadata": {
  "kernelspec": {
   "display_name": "Python 2",
   "language": "python",
   "name": "python2"
  },
  "language_info": {
   "codemirror_mode": {
    "name": "ipython",
    "version": 2
   },
   "file_extension": ".py",
   "mimetype": "text/x-python",
   "name": "python",
   "nbconvert_exporter": "python",
   "pygments_lexer": "ipython2",
   "version": "2.7.14"
  }
 },
 "nbformat": 4,
 "nbformat_minor": 2
}
