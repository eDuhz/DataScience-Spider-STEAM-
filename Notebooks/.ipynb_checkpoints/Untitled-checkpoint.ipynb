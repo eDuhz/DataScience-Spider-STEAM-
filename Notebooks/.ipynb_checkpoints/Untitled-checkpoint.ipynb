{
 "cells": [
  {
   "cell_type": "code",
   "execution_count": 12,
   "metadata": {
    "collapsed": true
   },
   "outputs": [],
   "source": [
    "import pandas as pd\n",
    "import os"
   ]
  },
  {
   "cell_type": "code",
   "execution_count": 13,
   "metadata": {},
   "outputs": [
    {
     "name": "stdout",
     "output_type": "stream",
     "text": [
      "<class 'pandas.core.frame.DataFrame'>\n",
      "Int64Index: 19624 entries, 0 to 2739\n",
      "Data columns (total 10 columns):\n",
      "#                                    19624 non-null int64\n",
      "Game                                 19618 non-null object\n",
      "Release date                         19569 non-null object\n",
      "Price                                19281 non-null object\n",
      "Score rank(Userscore / Metascore)    19623 non-null object\n",
      "Owners                               19623 non-null object\n",
      "Playtime (Median)                    19623 non-null object\n",
      "Developer(s)                         19536 non-null object\n",
      "Publisher(s)                         19479 non-null object\n",
      "Genre                                19624 non-null object\n",
      "dtypes: int64(1), object(9)\n",
      "memory usage: 1.6+ MB\n"
     ]
    }
   ],
   "source": [
    "df = pd.DataFrame()\n",
    "for f in os.listdir('../CSV_Spy'):\n",
    "    df = pd.concat([df, pd.read_csv('../CSV_Spy/'+f)])\n",
    "    \n",
    "df.info()"
   ]
  },
  {
   "cell_type": "code",
   "execution_count": 14,
   "metadata": {},
   "outputs": [
    {
     "name": "stdout",
     "output_type": "stream",
     "text": [
      "<class 'pandas.core.frame.DataFrame'>\n",
      "Int64Index: 19624 entries, 0 to 2739\n",
      "Data columns (total 10 columns):\n",
      "#                                    19624 non-null int64\n",
      "Game                                 19618 non-null object\n",
      "Release date                         19569 non-null object\n",
      "Price                                19281 non-null object\n",
      "Score rank(Userscore / Metascore)    19623 non-null object\n",
      "Owners                               19623 non-null object\n",
      "Playtime (Median)                    19623 non-null object\n",
      "Developer(s)                         19536 non-null object\n",
      "Publisher(s)                         19479 non-null object\n",
      "Genre                                19624 non-null object\n",
      "dtypes: int64(1), object(9)\n",
      "memory usage: 1.6+ MB\n"
     ]
    }
   ],
   "source": [
    "df = df.drop_duplicates()\n",
    "df.info()"
   ]
  },
  {
   "cell_type": "code",
   "execution_count": 15,
   "metadata": {},
   "outputs": [
    {
     "data": {
      "text/html": [
       "<div>\n",
       "<style>\n",
       "    .dataframe thead tr:only-child th {\n",
       "        text-align: right;\n",
       "    }\n",
       "\n",
       "    .dataframe thead th {\n",
       "        text-align: left;\n",
       "    }\n",
       "\n",
       "    .dataframe tbody tr th {\n",
       "        vertical-align: top;\n",
       "    }\n",
       "</style>\n",
       "<table border=\"1\" class=\"dataframe\">\n",
       "  <thead>\n",
       "    <tr style=\"text-align: right;\">\n",
       "      <th></th>\n",
       "      <th>#</th>\n",
       "      <th>Game</th>\n",
       "      <th>Release date</th>\n",
       "      <th>Price</th>\n",
       "      <th>Score rank(Userscore / Metascore)</th>\n",
       "      <th>Owners</th>\n",
       "      <th>Playtime (Median)</th>\n",
       "      <th>Developer(s)</th>\n",
       "      <th>Publisher(s)</th>\n",
       "      <th>Genre</th>\n",
       "    </tr>\n",
       "  </thead>\n",
       "  <tbody>\n",
       "    <tr>\n",
       "      <th>0</th>\n",
       "      <td>6657</td>\n",
       "      <td>Unturned</td>\n",
       "      <td>07/07/17</td>\n",
       "      <td>Free</td>\n",
       "      <td>77% (91%)</td>\n",
       "      <td>33,517,329 ±181,569</td>\n",
       "      <td>20:54 (02:32)</td>\n",
       "      <td>Smartly Dressed Games</td>\n",
       "      <td>Smartly Dressed Games</td>\n",
       "      <td>Adventure</td>\n",
       "    </tr>\n",
       "    <tr>\n",
       "      <th>1</th>\n",
       "      <td>5587</td>\n",
       "      <td>PLAYERUNKNOWN'S BATTLEGROUNDS</td>\n",
       "      <td>23/03/17</td>\n",
       "      <td>$29.99</td>\n",
       "      <td>15% (59%)</td>\n",
       "      <td>25,460,586 ±159,631</td>\n",
       "      <td>145:58 (89:47)</td>\n",
       "      <td>PUBG Corporation</td>\n",
       "      <td>PUBG Corporation</td>\n",
       "      <td>Adventure</td>\n",
       "    </tr>\n",
       "    <tr>\n",
       "      <th>2</th>\n",
       "      <td>107</td>\n",
       "      <td>Terraria</td>\n",
       "      <td>May 16, 2011</td>\n",
       "      <td>$9.99</td>\n",
       "      <td>97% (97%/83%)</td>\n",
       "      <td>9,555,819 ±99,444</td>\n",
       "      <td>82:43 (24:32)</td>\n",
       "      <td>Re-Logic</td>\n",
       "      <td>Re-Logic</td>\n",
       "      <td>Adventure</td>\n",
       "    </tr>\n",
       "    <tr>\n",
       "      <th>3</th>\n",
       "      <td>2775</td>\n",
       "      <td>Trove</td>\n",
       "      <td>09/07/15</td>\n",
       "      <td>Free</td>\n",
       "      <td>40% (77%)</td>\n",
       "      <td>8,981,775 ±96,468</td>\n",
       "      <td>20:27 (01:55)</td>\n",
       "      <td>Trion Worlds</td>\n",
       "      <td>Trion Worlds</td>\n",
       "      <td>Adventure</td>\n",
       "    </tr>\n",
       "    <tr>\n",
       "      <th>4</th>\n",
       "      <td>1</td>\n",
       "      <td>Grand Theft Auto V</td>\n",
       "      <td>Apr 13, 2015</td>\n",
       "      <td>$29.99</td>\n",
       "      <td>24% (67%/96%)</td>\n",
       "      <td>8,881,414 ±95,938</td>\n",
       "      <td>126:28 (66:12)</td>\n",
       "      <td>Rockstar North</td>\n",
       "      <td>Rockstar Games</td>\n",
       "      <td>Adventure</td>\n",
       "    </tr>\n",
       "  </tbody>\n",
       "</table>\n",
       "</div>"
      ],
      "text/plain": [
       "      #                           Game  Release date   Price  \\\n",
       "0  6657                       Unturned      07/07/17    Free   \n",
       "1  5587  PLAYERUNKNOWN'S BATTLEGROUNDS      23/03/17  $29.99   \n",
       "2   107                       Terraria  May 16, 2011   $9.99   \n",
       "3  2775                          Trove      09/07/15    Free   \n",
       "4     1             Grand Theft Auto V  Apr 13, 2015  $29.99   \n",
       "\n",
       "  Score rank(Userscore / Metascore)               Owners Playtime (Median)  \\\n",
       "0                         77% (91%)  33,517,329 ±181,569     20:54 (02:32)   \n",
       "1                         15% (59%)  25,460,586 ±159,631    145:58 (89:47)   \n",
       "2                     97% (97%/83%)    9,555,819 ±99,444     82:43 (24:32)   \n",
       "3                         40% (77%)    8,981,775 ±96,468     20:27 (01:55)   \n",
       "4                     24% (67%/96%)    8,881,414 ±95,938    126:28 (66:12)   \n",
       "\n",
       "            Developer(s)           Publisher(s)      Genre  \n",
       "0  Smartly Dressed Games  Smartly Dressed Games  Adventure  \n",
       "1       PUBG Corporation       PUBG Corporation  Adventure  \n",
       "2               Re-Logic               Re-Logic  Adventure  \n",
       "3           Trion Worlds           Trion Worlds  Adventure  \n",
       "4         Rockstar North         Rockstar Games  Adventure  "
      ]
     },
     "execution_count": 15,
     "metadata": {},
     "output_type": "execute_result"
    }
   ],
   "source": [
    "df.head()"
   ]
  },
  {
   "cell_type": "code",
   "execution_count": 16,
   "metadata": {
    "collapsed": true
   },
   "outputs": [],
   "source": [
    "df.to_csv('../games_spy.csv', index=False)"
   ]
  },
  {
   "cell_type": "code",
   "execution_count": 18,
   "metadata": {},
   "outputs": [
    {
     "name": "stdout",
     "output_type": "stream",
     "text": [
      "<class 'pandas.core.frame.DataFrame'>\n",
      "RangeIndex: 19624 entries, 0 to 19623\n",
      "Data columns (total 10 columns):\n",
      "#                                    19624 non-null int64\n",
      "Game                                 19618 non-null object\n",
      "Release date                         19624 non-null object\n",
      "Price                                19281 non-null object\n",
      "Score rank(Userscore / Metascore)    19623 non-null object\n",
      "Owners                               19623 non-null object\n",
      "Playtime (Median)                    19623 non-null object\n",
      "Developer(s)                         19536 non-null object\n",
      "Publisher(s)                         19479 non-null object\n",
      "Genre                                19624 non-null object\n",
      "dtypes: int64(1), object(9)\n",
      "memory usage: 1.5+ MB\n"
     ]
    }
   ],
   "source": [
    "df = pd.read_csv('../games_spy.csv', parse_dates=['Release date'])\n",
    "df.info()"
   ]
  },
  {
   "cell_type": "code",
   "execution_count": 25,
   "metadata": {
    "collapsed": true
   },
   "outputs": [],
   "source": [
    "def parse_price(x):\n",
    "    try:\n",
    "        return float(x.replace('$', ''))\n",
    "    except:\n",
    "        return 0"
   ]
  },
  {
   "cell_type": "code",
   "execution_count": 45,
   "metadata": {},
   "outputs": [],
   "source": [
    "def parse_score(x):\n",
    "    try:\n",
    "        if type(x) == float:\n",
    "            return x\n",
    "        else:\n",
    "            return float(x.split('%')[0])\n",
    "    except:\n",
    "        return 0    "
   ]
  },
  {
   "cell_type": "code",
   "execution_count": 49,
   "metadata": {
    "collapsed": true
   },
   "outputs": [],
   "source": [
    "def parse_user_score(x):\n",
    "    try:\n",
    "        return float(x.split('(')[1].split('%')[0])\n",
    "    except:\n",
    "        return 0  "
   ]
  },
  {
   "cell_type": "code",
   "execution_count": 52,
   "metadata": {
    "collapsed": true
   },
   "outputs": [],
   "source": [
    "def parse_meta_score(x):\n",
    "    try:\n",
    "        return float(x.split('/')[1].split('%')[0])\n",
    "    except:\n",
    "        return 0  "
   ]
  },
  {
   "cell_type": "code",
   "execution_count": 56,
   "metadata": {
    "collapsed": true
   },
   "outputs": [],
   "source": [
    "def parse_owners(x):\n",
    "    try:\n",
    "        return int(str(x).split('±')[0].replace(',',''))\n",
    "    except:\n",
    "        return 0"
   ]
  },
  {
   "cell_type": "code",
   "execution_count": 72,
   "metadata": {
    "collapsed": true
   },
   "outputs": [],
   "source": [
    "def parse_median_playtime(x):\n",
    "    try:\n",
    "        m = x.split('(')[1].split(')')[0]\n",
    "        hours = float(m.split(':')[0])\n",
    "        mins = float(m.split(':')[1])\n",
    "        return hours + mins / 60\n",
    "    except:\n",
    "        return 0"
   ]
  },
  {
   "cell_type": "code",
   "execution_count": 73,
   "metadata": {
    "collapsed": true
   },
   "outputs": [],
   "source": [
    "def parse_playtime(x):\n",
    "    try:\n",
    "        hours = float(x.split('(')[0].split(':')[0])\n",
    "        mins = float(x.split('(')[0].split(':')[1])\n",
    "        return hours + mins / 60\n",
    "    except:\n",
    "        return 0"
   ]
  },
  {
   "cell_type": "code",
   "execution_count": 85,
   "metadata": {
    "collapsed": true
   },
   "outputs": [],
   "source": [
    "from datetime import datetime\n",
    "def parse_date(x):\n",
    "    try:\n",
    "        return datetime.strptime(x, '%d/%m/%y')\n",
    "    except:\n",
    "        try:\n",
    "            return datetime.strptime(x, '%b %d, %Y')\n",
    "        except:\n",
    "            return None"
   ]
  },
  {
   "cell_type": "code",
   "execution_count": 86,
   "metadata": {},
   "outputs": [
    {
     "data": {
      "text/html": [
       "<div>\n",
       "<style>\n",
       "    .dataframe thead tr:only-child th {\n",
       "        text-align: right;\n",
       "    }\n",
       "\n",
       "    .dataframe thead th {\n",
       "        text-align: left;\n",
       "    }\n",
       "\n",
       "    .dataframe tbody tr th {\n",
       "        vertical-align: top;\n",
       "    }\n",
       "</style>\n",
       "<table border=\"1\" class=\"dataframe\">\n",
       "  <thead>\n",
       "    <tr style=\"text-align: right;\">\n",
       "      <th></th>\n",
       "      <th>game</th>\n",
       "      <th>release_date</th>\n",
       "      <th>price</th>\n",
       "      <th>score</th>\n",
       "      <th>userscore</th>\n",
       "      <th>metascore</th>\n",
       "      <th>owners</th>\n",
       "      <th>playtime</th>\n",
       "      <th>median_playtime</th>\n",
       "      <th>developer</th>\n",
       "      <th>publisher</th>\n",
       "      <th>genre</th>\n",
       "    </tr>\n",
       "  </thead>\n",
       "  <tbody>\n",
       "    <tr>\n",
       "      <th>0</th>\n",
       "      <td>Unturned</td>\n",
       "      <td>2017-07-07</td>\n",
       "      <td>0.00</td>\n",
       "      <td>77.0</td>\n",
       "      <td>91.0</td>\n",
       "      <td>0.0</td>\n",
       "      <td>33517329</td>\n",
       "      <td>20.900000</td>\n",
       "      <td>2.533333</td>\n",
       "      <td>Smartly Dressed Games</td>\n",
       "      <td>Smartly Dressed Games</td>\n",
       "      <td>Adventure</td>\n",
       "    </tr>\n",
       "    <tr>\n",
       "      <th>1</th>\n",
       "      <td>PLAYERUNKNOWN'S BATTLEGROUNDS</td>\n",
       "      <td>2017-03-23</td>\n",
       "      <td>29.99</td>\n",
       "      <td>15.0</td>\n",
       "      <td>59.0</td>\n",
       "      <td>0.0</td>\n",
       "      <td>25460586</td>\n",
       "      <td>145.966667</td>\n",
       "      <td>89.783333</td>\n",
       "      <td>PUBG Corporation</td>\n",
       "      <td>PUBG Corporation</td>\n",
       "      <td>Adventure</td>\n",
       "    </tr>\n",
       "    <tr>\n",
       "      <th>2</th>\n",
       "      <td>Terraria</td>\n",
       "      <td>2011-05-16</td>\n",
       "      <td>9.99</td>\n",
       "      <td>97.0</td>\n",
       "      <td>97.0</td>\n",
       "      <td>83.0</td>\n",
       "      <td>9555819</td>\n",
       "      <td>82.716667</td>\n",
       "      <td>24.533333</td>\n",
       "      <td>Re-Logic</td>\n",
       "      <td>Re-Logic</td>\n",
       "      <td>Adventure</td>\n",
       "    </tr>\n",
       "    <tr>\n",
       "      <th>3</th>\n",
       "      <td>Trove</td>\n",
       "      <td>2015-07-09</td>\n",
       "      <td>0.00</td>\n",
       "      <td>40.0</td>\n",
       "      <td>77.0</td>\n",
       "      <td>0.0</td>\n",
       "      <td>8981775</td>\n",
       "      <td>20.450000</td>\n",
       "      <td>1.916667</td>\n",
       "      <td>Trion Worlds</td>\n",
       "      <td>Trion Worlds</td>\n",
       "      <td>Adventure</td>\n",
       "    </tr>\n",
       "    <tr>\n",
       "      <th>4</th>\n",
       "      <td>Grand Theft Auto V</td>\n",
       "      <td>2015-04-13</td>\n",
       "      <td>29.99</td>\n",
       "      <td>24.0</td>\n",
       "      <td>67.0</td>\n",
       "      <td>96.0</td>\n",
       "      <td>8881414</td>\n",
       "      <td>126.466667</td>\n",
       "      <td>66.200000</td>\n",
       "      <td>Rockstar North</td>\n",
       "      <td>Rockstar Games</td>\n",
       "      <td>Adventure</td>\n",
       "    </tr>\n",
       "  </tbody>\n",
       "</table>\n",
       "</div>"
      ],
      "text/plain": [
       "                            game release_date  price  score  userscore  \\\n",
       "0                       Unturned   2017-07-07   0.00   77.0       91.0   \n",
       "1  PLAYERUNKNOWN'S BATTLEGROUNDS   2017-03-23  29.99   15.0       59.0   \n",
       "2                       Terraria   2011-05-16   9.99   97.0       97.0   \n",
       "3                          Trove   2015-07-09   0.00   40.0       77.0   \n",
       "4             Grand Theft Auto V   2015-04-13  29.99   24.0       67.0   \n",
       "\n",
       "   metascore    owners    playtime  median_playtime              developer  \\\n",
       "0        0.0  33517329   20.900000         2.533333  Smartly Dressed Games   \n",
       "1        0.0  25460586  145.966667        89.783333       PUBG Corporation   \n",
       "2       83.0   9555819   82.716667        24.533333               Re-Logic   \n",
       "3        0.0   8981775   20.450000         1.916667           Trion Worlds   \n",
       "4       96.0   8881414  126.466667        66.200000         Rockstar North   \n",
       "\n",
       "               publisher      genre  \n",
       "0  Smartly Dressed Games  Adventure  \n",
       "1       PUBG Corporation  Adventure  \n",
       "2               Re-Logic  Adventure  \n",
       "3           Trion Worlds  Adventure  \n",
       "4         Rockstar Games  Adventure  "
      ]
     },
     "execution_count": 86,
     "metadata": {},
     "output_type": "execute_result"
    }
   ],
   "source": [
    "#df2 = pd.DataFrame(columns=['game', 'release_date', 'price', 'score', 'userscore', 'metascore', 'playtime', 'median_playtime', 'developer', 'publisher', 'genre'])\n",
    "df2 = pd.DataFrame()\n",
    "df2['game'] = df.Game\n",
    "df2['release_date'] = df['Release date'].apply(parse_date)\n",
    "df2['price'] = df.Price.apply(parse_price)\n",
    "df2['score'] = df['Score rank(Userscore / Metascore)'].apply(parse_score)\n",
    "df2['userscore'] = df['Score rank(Userscore / Metascore)'].apply(parse_user_score)\n",
    "df2['metascore'] = df['Score rank(Userscore / Metascore)'].apply(parse_meta_score)\n",
    "df2['owners'] = df.Owners.apply(parse_owners)\n",
    "df2['playtime'] = df['Playtime (Median)'].apply(parse_playtime)\n",
    "df2['median_playtime'] = df['Playtime (Median)'].apply(parse_median_playtime)\n",
    "df2['developer'] = df['Developer(s)']\n",
    "df2['publisher'] = df['Publisher(s)']\n",
    "df2['genre'] = df['Genre']\n",
    "df2.head()"
   ]
  },
  {
   "cell_type": "code",
   "execution_count": 87,
   "metadata": {},
   "outputs": [],
   "source": [
    "df2.to_csv('../games_spy2.csv', index=False)"
   ]
  },
  {
   "cell_type": "code",
   "execution_count": null,
   "metadata": {
    "collapsed": true
   },
   "outputs": [],
   "source": []
  }
 ],
 "metadata": {
  "kernelspec": {
   "display_name": "Python 2",
   "language": "python",
   "name": "python2"
  },
  "language_info": {
   "codemirror_mode": {
    "name": "ipython",
    "version": 2
   },
   "file_extension": ".py",
   "mimetype": "text/x-python",
   "name": "python",
   "nbconvert_exporter": "python",
   "pygments_lexer": "ipython2",
   "version": "2.7.13"
  }
 },
 "nbformat": 4,
 "nbformat_minor": 2
}
