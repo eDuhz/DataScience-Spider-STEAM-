{
 "cells": [
  {
   "cell_type": "code",
   "execution_count": 12,
   "metadata": {
    "collapsed": true
   },
   "outputs": [],
   "source": [
    "import pandas as pd\n",
    "import os"
   ]
  },
  {
   "cell_type": "code",
   "execution_count": 13,
   "metadata": {},
   "outputs": [
    {
     "name": "stdout",
     "output_type": "stream",
     "text": [
      "<class 'pandas.core.frame.DataFrame'>\n",
      "Int64Index: 19624 entries, 0 to 2739\n",
      "Data columns (total 10 columns):\n",
      "#                                    19624 non-null int64\n",
      "Game                                 19618 non-null object\n",
      "Release date                         19569 non-null object\n",
      "Price                                19281 non-null object\n",
      "Score rank(Userscore / Metascore)    19623 non-null object\n",
      "Owners                               19623 non-null object\n",
      "Playtime (Median)                    19623 non-null object\n",
      "Developer(s)                         19536 non-null object\n",
      "Publisher(s)                         19479 non-null object\n",
      "Genre                                19624 non-null object\n",
      "dtypes: int64(1), object(9)\n",
      "memory usage: 1.6+ MB\n"
     ]
    }
   ],
   "source": [
    "df = pd.DataFrame()\n",
    "for f in os.listdir('../CSV_Spy'):\n",
    "    df = pd.concat([df, pd.read_csv('../CSV_Spy/'+f)])\n",
    "    \n",
    "df.info()"
   ]
  },
  {
   "cell_type": "code",
   "execution_count": 14,
   "metadata": {},
   "outputs": [
    {
     "name": "stdout",
     "output_type": "stream",
     "text": [
      "<class 'pandas.core.frame.DataFrame'>\n",
      "Int64Index: 19624 entries, 0 to 2739\n",
      "Data columns (total 10 columns):\n",
      "#                                    19624 non-null int64\n",
      "Game                                 19618 non-null object\n",
      "Release date                         19569 non-null object\n",
      "Price                                19281 non-null object\n",
      "Score rank(Userscore / Metascore)    19623 non-null object\n",
      "Owners                               19623 non-null object\n",
      "Playtime (Median)                    19623 non-null object\n",
      "Developer(s)                         19536 non-null object\n",
      "Publisher(s)                         19479 non-null object\n",
      "Genre                                19624 non-null object\n",
      "dtypes: int64(1), object(9)\n",
      "memory usage: 1.6+ MB\n"
     ]
    }
   ],
   "source": [
    "df = df.drop_duplicates()\n",
    "df.info()"
   ]
  },
  {
   "cell_type": "code",
   "execution_count": 15,
   "metadata": {},
   "outputs": [
    {
     "data": {
      "text/html": [
       "<div>\n",
       "<style>\n",
       "    .dataframe thead tr:only-child th {\n",
       "        text-align: right;\n",
       "    }\n",
       "\n",
       "    .dataframe thead th {\n",
       "        text-align: left;\n",
       "    }\n",
       "\n",
       "    .dataframe tbody tr th {\n",
       "        vertical-align: top;\n",
       "    }\n",
       "</style>\n",
       "<table border=\"1\" class=\"dataframe\">\n",
       "  <thead>\n",
       "    <tr style=\"text-align: right;\">\n",
       "      <th></th>\n",
       "      <th>#</th>\n",
       "      <th>Game</th>\n",
       "      <th>Release date</th>\n",
       "      <th>Price</th>\n",
       "      <th>Score rank(Userscore / Metascore)</th>\n",
       "      <th>Owners</th>\n",
       "      <th>Playtime (Median)</th>\n",
       "      <th>Developer(s)</th>\n",
       "      <th>Publisher(s)</th>\n",
       "      <th>Genre</th>\n",
       "    </tr>\n",
       "  </thead>\n",
       "  <tbody>\n",
       "    <tr>\n",
       "      <th>0</th>\n",
       "      <td>6657</td>\n",
       "      <td>Unturned</td>\n",
       "      <td>07/07/17</td>\n",
       "      <td>Free</td>\n",
       "      <td>77% (91%)</td>\n",
       "      <td>33,517,329 ±181,569</td>\n",
       "      <td>20:54 (02:32)</td>\n",
       "      <td>Smartly Dressed Games</td>\n",
       "      <td>Smartly Dressed Games</td>\n",
       "      <td>Adventure</td>\n",
       "    </tr>\n",
       "    <tr>\n",
       "      <th>1</th>\n",
       "      <td>5587</td>\n",
       "      <td>PLAYERUNKNOWN'S BATTLEGROUNDS</td>\n",
       "      <td>23/03/17</td>\n",
       "      <td>$29.99</td>\n",
       "      <td>15% (59%)</td>\n",
       "      <td>25,460,586 ±159,631</td>\n",
       "      <td>145:58 (89:47)</td>\n",
       "      <td>PUBG Corporation</td>\n",
       "      <td>PUBG Corporation</td>\n",
       "      <td>Adventure</td>\n",
       "    </tr>\n",
       "    <tr>\n",
       "      <th>2</th>\n",
       "      <td>107</td>\n",
       "      <td>Terraria</td>\n",
       "      <td>May 16, 2011</td>\n",
       "      <td>$9.99</td>\n",
       "      <td>97% (97%/83%)</td>\n",
       "      <td>9,555,819 ±99,444</td>\n",
       "      <td>82:43 (24:32)</td>\n",
       "      <td>Re-Logic</td>\n",
       "      <td>Re-Logic</td>\n",
       "      <td>Adventure</td>\n",
       "    </tr>\n",
       "    <tr>\n",
       "      <th>3</th>\n",
       "      <td>2775</td>\n",
       "      <td>Trove</td>\n",
       "      <td>09/07/15</td>\n",
       "      <td>Free</td>\n",
       "      <td>40% (77%)</td>\n",
       "      <td>8,981,775 ±96,468</td>\n",
       "      <td>20:27 (01:55)</td>\n",
       "      <td>Trion Worlds</td>\n",
       "      <td>Trion Worlds</td>\n",
       "      <td>Adventure</td>\n",
       "    </tr>\n",
       "    <tr>\n",
       "      <th>4</th>\n",
       "      <td>1</td>\n",
       "      <td>Grand Theft Auto V</td>\n",
       "      <td>Apr 13, 2015</td>\n",
       "      <td>$29.99</td>\n",
       "      <td>24% (67%/96%)</td>\n",
       "      <td>8,881,414 ±95,938</td>\n",
       "      <td>126:28 (66:12)</td>\n",
       "      <td>Rockstar North</td>\n",
       "      <td>Rockstar Games</td>\n",
       "      <td>Adventure</td>\n",
       "    </tr>\n",
       "  </tbody>\n",
       "</table>\n",
       "</div>"
      ],
      "text/plain": [
       "      #                           Game  Release date   Price  \\\n",
       "0  6657                       Unturned      07/07/17    Free   \n",
       "1  5587  PLAYERUNKNOWN'S BATTLEGROUNDS      23/03/17  $29.99   \n",
       "2   107                       Terraria  May 16, 2011   $9.99   \n",
       "3  2775                          Trove      09/07/15    Free   \n",
       "4     1             Grand Theft Auto V  Apr 13, 2015  $29.99   \n",
       "\n",
       "  Score rank(Userscore / Metascore)               Owners Playtime (Median)  \\\n",
       "0                         77% (91%)  33,517,329 ±181,569     20:54 (02:32)   \n",
       "1                         15% (59%)  25,460,586 ±159,631    145:58 (89:47)   \n",
       "2                     97% (97%/83%)    9,555,819 ±99,444     82:43 (24:32)   \n",
       "3                         40% (77%)    8,981,775 ±96,468     20:27 (01:55)   \n",
       "4                     24% (67%/96%)    8,881,414 ±95,938    126:28 (66:12)   \n",
       "\n",
       "            Developer(s)           Publisher(s)      Genre  \n",
       "0  Smartly Dressed Games  Smartly Dressed Games  Adventure  \n",
       "1       PUBG Corporation       PUBG Corporation  Adventure  \n",
       "2               Re-Logic               Re-Logic  Adventure  \n",
       "3           Trion Worlds           Trion Worlds  Adventure  \n",
       "4         Rockstar North         Rockstar Games  Adventure  "
      ]
     },
     "execution_count": 15,
     "metadata": {},
     "output_type": "execute_result"
    }
   ],
   "source": [
    "df.head()"
   ]
  },
  {
   "cell_type": "code",
   "execution_count": 16,
   "metadata": {
    "collapsed": true
   },
   "outputs": [],
   "source": [
    "df.to_csv('../games_spy.csv', index=False)"
   ]
  },
  {
   "cell_type": "code",
   "execution_count": null,
   "metadata": {
    "collapsed": true
   },
   "outputs": [],
   "source": []
  }
 ],
 "metadata": {
  "kernelspec": {
   "display_name": "Python 2",
   "language": "python",
   "name": "python2"
  },
  "language_info": {
   "codemirror_mode": {
    "name": "ipython",
    "version": 2
   },
   "file_extension": ".py",
   "mimetype": "text/x-python",
   "name": "python",
   "nbconvert_exporter": "python",
   "pygments_lexer": "ipython2",
   "version": "2.7.13"
  }
 },
 "nbformat": 4,
 "nbformat_minor": 2
}
