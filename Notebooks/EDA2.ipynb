{
 "cells": [
  {
   "cell_type": "code",
   "execution_count": 1,
   "metadata": {
    "collapsed": true
   },
   "outputs": [],
   "source": [
    "import pandas as pd"
   ]
  },
  {
   "cell_type": "code",
   "execution_count": 2,
   "metadata": {},
   "outputs": [
    {
     "name": "stdout",
     "output_type": "stream",
     "text": [
      "<class 'pandas.core.frame.DataFrame'>\n",
      "RangeIndex: 19624 entries, 0 to 19623\n",
      "Data columns (total 12 columns):\n",
      "game               19618 non-null object\n",
      "release_date       19503 non-null datetime64[ns]\n",
      "price              19624 non-null float64\n",
      "score              19623 non-null float64\n",
      "userscore          19624 non-null float64\n",
      "metascore          19624 non-null float64\n",
      "owners             19624 non-null int64\n",
      "playtime           19624 non-null float64\n",
      "median_playtime    19624 non-null float64\n",
      "developer          19536 non-null object\n",
      "publisher          19479 non-null object\n",
      "genre              19624 non-null object\n",
      "dtypes: datetime64[ns](1), float64(6), int64(1), object(4)\n",
      "memory usage: 1.8+ MB\n"
     ]
    }
   ],
   "source": [
    "df = pd.read_csv('../games_spy2.csv', parse_dates=['release_date'])\n",
    "df.info()"
   ]
  },
  {
   "cell_type": "code",
   "execution_count": null,
   "metadata": {
    "collapsed": true
   },
   "outputs": [],
   "source": []
  }
 ],
 "metadata": {
  "kernelspec": {
   "display_name": "Python 2",
   "language": "python",
   "name": "python2"
  },
  "language_info": {
   "codemirror_mode": {
    "name": "ipython",
    "version": 2
   },
   "file_extension": ".py",
   "mimetype": "text/x-python",
   "name": "python",
   "nbconvert_exporter": "python",
   "pygments_lexer": "ipython2",
   "version": "2.7.13"
  }
 },
 "nbformat": 4,
 "nbformat_minor": 2
}
