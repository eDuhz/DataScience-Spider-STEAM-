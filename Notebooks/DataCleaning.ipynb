{
 "cells": [
  {
   "cell_type": "code",
   "execution_count": 37,
   "metadata": {
    "collapsed": true
   },
   "outputs": [],
   "source": [
    "import pandas as pd\n",
    "import os"
   ]
  },
  {
   "cell_type": "code",
   "execution_count": 38,
   "metadata": {},
   "outputs": [
    {
     "name": "stdout",
     "output_type": "stream",
     "text": [
      "<class 'pandas.core.frame.DataFrame'>\n",
      "Int64Index: 69988 entries, 0 to 10170\n",
      "Data columns (total 10 columns):\n",
      "url                69988 non-null object\n",
      "developer          69037 non-null object\n",
      "genre              69370 non-null object\n",
      "overall_Reviews    54442 non-null object\n",
      "price              69988 non-null object\n",
      "release_date       68847 non-null object\n",
      "score              2865 non-null float64\n",
      "title              69368 non-null object\n",
      "url.1              69988 non-null object\n",
      "...                69988 non-null object\n",
      "dtypes: float64(1), object(9)\n",
      "memory usage: 5.9+ MB\n"
     ]
    }
   ],
   "source": [
    "df = pd.DataFrame()\n",
    "for f in os.listdir('../CSV'):\n",
    "    df = pd.concat([df, pd.read_csv('../CSV/'+f)])\n",
    "    \n",
    "df.info()"
   ]
  },
  {
   "cell_type": "code",
   "execution_count": 39,
   "metadata": {
    "collapsed": true
   },
   "outputs": [],
   "source": [
    "udf = df[~df.duplicated()]"
   ]
  },
  {
   "cell_type": "code",
   "execution_count": 40,
   "metadata": {
    "collapsed": true
   },
   "outputs": [],
   "source": [
    "del udf['...']\n",
    "del udf['url.1']"
   ]
  },
  {
   "cell_type": "code",
   "execution_count": 41,
   "metadata": {},
   "outputs": [
    {
     "data": {
      "text/html": [
       "<div>\n",
       "<style>\n",
       "    .dataframe thead tr:only-child th {\n",
       "        text-align: right;\n",
       "    }\n",
       "\n",
       "    .dataframe thead th {\n",
       "        text-align: left;\n",
       "    }\n",
       "\n",
       "    .dataframe tbody tr th {\n",
       "        vertical-align: top;\n",
       "    }\n",
       "</style>\n",
       "<table border=\"1\" class=\"dataframe\">\n",
       "  <thead>\n",
       "    <tr style=\"text-align: right;\">\n",
       "      <th></th>\n",
       "      <th>url</th>\n",
       "      <th>developer</th>\n",
       "      <th>genre</th>\n",
       "      <th>overall_Reviews</th>\n",
       "      <th>price</th>\n",
       "      <th>release_date</th>\n",
       "      <th>score</th>\n",
       "      <th>title</th>\n",
       "    </tr>\n",
       "  </thead>\n",
       "  <tbody>\n",
       "    <tr>\n",
       "      <th>0</th>\n",
       "      <td>http://store.steampowered.com/agecheck/app/225...</td>\n",
       "      <td>Gearbox Software</td>\n",
       "      <td>Action</td>\n",
       "      <td>NaN</td>\n",
       "      <td>24.95</td>\n",
       "      <td>NaN</td>\n",
       "      <td>NaN</td>\n",
       "      <td>Borderlands 2: Mr. Torgue’s Campaign of Carnage</td>\n",
       "    </tr>\n",
       "    <tr>\n",
       "      <th>1</th>\n",
       "      <td>http://store.steampowered.com/agecheck/app/225...</td>\n",
       "      <td>Gearbox Software</td>\n",
       "      <td>Action</td>\n",
       "      <td>NaN</td>\n",
       "      <td>24.95</td>\n",
       "      <td>NaN</td>\n",
       "      <td>NaN</td>\n",
       "      <td>Borderlands 2: Mr. Torgue’s Campaign of Carnage</td>\n",
       "    </tr>\n",
       "    <tr>\n",
       "      <th>2</th>\n",
       "      <td>http://store.steampowered.com/app/502970/agech...</td>\n",
       "      <td>NaN</td>\n",
       "      <td>NaN</td>\n",
       "      <td>NaN</td>\n",
       "      <td>None</td>\n",
       "      <td>NaN</td>\n",
       "      <td>NaN</td>\n",
       "      <td>NaN</td>\n",
       "    </tr>\n",
       "    <tr>\n",
       "      <th>3</th>\n",
       "      <td>http://store.steampowered.com/app/225700/Falle...</td>\n",
       "      <td>Stardock Entertainment</td>\n",
       "      <td>RPG</td>\n",
       "      <td>NaN</td>\n",
       "      <td>None</td>\n",
       "      <td>NaN</td>\n",
       "      <td>NaN</td>\n",
       "      <td>Fallen Enchantress - Map Pack DLC</td>\n",
       "    </tr>\n",
       "    <tr>\n",
       "      <th>4</th>\n",
       "      <td>http://store.steampowered.com/app/220121/C9_St...</td>\n",
       "      <td>Cloud 9 Studio</td>\n",
       "      <td>Action</td>\n",
       "      <td>NaN</td>\n",
       "      <td>None</td>\n",
       "      <td>NaN</td>\n",
       "      <td>NaN</td>\n",
       "      <td>C9 Starter Package 2013</td>\n",
       "    </tr>\n",
       "  </tbody>\n",
       "</table>\n",
       "</div>"
      ],
      "text/plain": [
       "                                                 url               developer  \\\n",
       "0  http://store.steampowered.com/agecheck/app/225...        Gearbox Software   \n",
       "1  http://store.steampowered.com/agecheck/app/225...        Gearbox Software   \n",
       "2  http://store.steampowered.com/app/502970/agech...                     NaN   \n",
       "3  http://store.steampowered.com/app/225700/Falle...  Stardock Entertainment   \n",
       "4  http://store.steampowered.com/app/220121/C9_St...          Cloud 9 Studio   \n",
       "\n",
       "    genre overall_Reviews  price release_date  score  \\\n",
       "0  Action             NaN  24.95          NaN    NaN   \n",
       "1  Action             NaN  24.95          NaN    NaN   \n",
       "2     NaN             NaN   None          NaN    NaN   \n",
       "3     RPG             NaN   None          NaN    NaN   \n",
       "4  Action             NaN   None          NaN    NaN   \n",
       "\n",
       "                                             title  \n",
       "0  Borderlands 2: Mr. Torgue’s Campaign of Carnage  \n",
       "1  Borderlands 2: Mr. Torgue’s Campaign of Carnage  \n",
       "2                                              NaN  \n",
       "3                Fallen Enchantress - Map Pack DLC  \n",
       "4                          C9 Starter Package 2013  "
      ]
     },
     "execution_count": 41,
     "metadata": {},
     "output_type": "execute_result"
    }
   ],
   "source": [
    "udf.head()"
   ]
  },
  {
   "cell_type": "code",
   "execution_count": 25,
   "metadata": {},
   "outputs": [
    {
     "name": "stdout",
     "output_type": "stream",
     "text": [
      "<class 'pandas.core.frame.DataFrame'>\n",
      "Int64Index: 139442 entries, 0 to 10170\n",
      "Data columns (total 9 columns):\n",
      "developer          137544 non-null object\n",
      "genre              138206 non-null object\n",
      "overall_Reviews    108358 non-null object\n",
      "price              139442 non-null object\n",
      "pricef             69721 non-null float64\n",
      "release_date       137160 non-null object\n",
      "score              5570 non-null float64\n",
      "title              138202 non-null object\n",
      "url                139442 non-null object\n",
      "dtypes: float64(2), object(7)\n",
      "memory usage: 10.6+ MB\n"
     ]
    }
   ],
   "source": [
    "udf.info()"
   ]
  },
  {
   "cell_type": "code",
   "execution_count": 26,
   "metadata": {},
   "outputs": [
    {
     "data": {
      "text/plain": [
       "array(['Action', nan, 'RPG', 'Indie', 'Adventure', 'Casual', 'Massively',\n",
       "       'Free', 'Strategy', 'Design', 'Animation', 'Racing', 'Degica',\n",
       "       'Simulation', 'BANDAI', 'Sports', 'SEGA', 'Heroic', 'Shiny', 'Web',\n",
       "       'Cities:', 'InvertMouse', 'KillHouse', 'Early', 'Audio', 'Verb',\n",
       "       'Video', 'Catbox', 'StudioBento', 'Steve', 'Five', 'Devolver',\n",
       "       'Bury', 'Performance', 'Konec', 'Vile', 'Alienware', 'Coasting',\n",
       "       'Grandview', 'PDP', 'Historia', 'Nine', 'Okay', '2', 'Lionsgate',\n",
       "       'Common', 'Flame', 'Ale\\xc5\\xa1', 'Spiez', 'Education', 'Utilities',\n",
       "       'Assemblage', 'Imagos', \"Devil's\", 'titansiegetochina', 'Summit',\n",
       "       'Miramax', 'Tristan', 'Headfirst', 'OVERKILL', 'Valve', 'View',\n",
       "       'Blit', 'Ominous', 'WWE', 'Grindstone', 'NBC', 'Warner', 'MIRAMAX',\n",
       "       'Oscilloscope', 'Rooster', 'Shochiku', 'TV', 'NetherRealm',\n",
       "       'iDragons', 'Corridor', 'Kennedy', 'Naps', 'MidBoss,'], dtype=object)"
      ]
     },
     "execution_count": 26,
     "metadata": {},
     "output_type": "execute_result"
    }
   ],
   "source": [
    "udf.genre.unique()"
   ]
  },
  {
   "cell_type": "code",
   "execution_count": 42,
   "metadata": {
    "collapsed": true
   },
   "outputs": [],
   "source": [
    "def parse_price(x):\n",
    "    try:\n",
    "        return float(x)\n",
    "    except:\n",
    "        return 0"
   ]
  },
  {
   "cell_type": "code",
   "execution_count": 43,
   "metadata": {
    "collapsed": true
   },
   "outputs": [],
   "source": [
    "udf = udf.copy()\n",
    "udf['price'] = udf.price.apply(parse_price)"
   ]
  },
  {
   "cell_type": "code",
   "execution_count": 44,
   "metadata": {},
   "outputs": [
    {
     "name": "stdout",
     "output_type": "stream",
     "text": [
      "<class 'pandas.core.frame.DataFrame'>\n",
      "Int64Index: 69721 entries, 0 to 10170\n",
      "Data columns (total 8 columns):\n",
      "url                69721 non-null object\n",
      "developer          68772 non-null object\n",
      "genre              69103 non-null object\n",
      "overall_Reviews    54179 non-null object\n",
      "price              69721 non-null float64\n",
      "release_date       68580 non-null object\n",
      "score              2785 non-null float64\n",
      "title              69101 non-null object\n",
      "dtypes: float64(2), object(6)\n",
      "memory usage: 4.8+ MB\n"
     ]
    }
   ],
   "source": [
    "udf.info()"
   ]
  },
  {
   "cell_type": "code",
   "execution_count": 45,
   "metadata": {},
   "outputs": [
    {
     "data": {
      "text/plain": [
       "array([nan, 'No user reviews', '4 user reviews', 'Very Positive',\n",
       "       '5 user reviews', 'Positive', '7 user reviews', '1 user reviews',\n",
       "       'Mixed', 'Overwhelmingly Positive', 'Mostly Negative',\n",
       "       '6 user reviews', '8 user reviews', '3 user reviews',\n",
       "       '9 user reviews', 'Mostly Positive', '2 user reviews', 'Negative',\n",
       "       'Very Negative', 'Overwhelmingly Negative'], dtype=object)"
      ]
     },
     "execution_count": 45,
     "metadata": {},
     "output_type": "execute_result"
    }
   ],
   "source": [
    "udf.overall_Reviews.unique()"
   ]
  },
  {
   "cell_type": "code",
   "execution_count": 46,
   "metadata": {
    "collapsed": true
   },
   "outputs": [],
   "source": [
    "udf.to_csv('../games.csv', index=False)"
   ]
  },
  {
   "cell_type": "code",
   "execution_count": null,
   "metadata": {
    "collapsed": true
   },
   "outputs": [],
   "source": []
  }
 ],
 "metadata": {
  "kernelspec": {
   "display_name": "Python 2",
   "language": "python",
   "name": "python2"
  },
  "language_info": {
   "codemirror_mode": {
    "name": "ipython",
    "version": 2
   },
   "file_extension": ".py",
   "mimetype": "text/x-python",
   "name": "python",
   "nbconvert_exporter": "python",
   "pygments_lexer": "ipython2",
   "version": "2.7.14"
  }
 },
 "nbformat": 4,
 "nbformat_minor": 2
}
